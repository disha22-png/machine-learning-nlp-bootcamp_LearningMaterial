{
 "cells": [
  {
   "cell_type": "markdown",
   "metadata": {},
   "source": [
    "## Flask Framework\n",
    "\n",
    "It is used to create web application. It is web framework which is created with python programming language."
   ]
  },
  {
   "cell_type": "markdown",
   "metadata": {},
   "source": [
    "### 1. Web Server Gateway Interface (WSGI) : \n",
    "Azure also has it. here we deploy our web application which created using flask framework. web app is deployed inside the web server so whenever any request comes will go to the web server and then to web app then return back to web server through protocol call WSGI. Then the result will send to the end user(who requested)\n",
    "\n",
    "example- user search for website then web server will take request and will interact with web app through WSGI.\n",
    "\n"
   ]
  },
  {
   "cell_type": "markdown",
   "metadata": {},
   "source": [
    "### 2. Jinja 2 Template Engine:\n",
    "\n",
    "It is web template engine. It combines pages in website with datasource(SQL DB, CSV Sheet, ML Model)\n",
    "\n",
    "Example. Suppose we create login form after filling info it will get authenticated from datasource.\n"
   ]
  },
  {
   "cell_type": "markdown",
   "metadata": {},
   "source": [
    "### Flask : \n",
    "Web Frame"
   ]
  }
 ],
 "metadata": {
  "kernelspec": {
   "display_name": "base",
   "language": "python",
   "name": "python3"
  },
  "language_info": {
   "name": "python",
   "version": "3.12.4"
  }
 },
 "nbformat": 4,
 "nbformat_minor": 2
}
