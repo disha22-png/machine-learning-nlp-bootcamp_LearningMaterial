{
 "cells": [
  {
   "cell_type": "markdown",
   "id": "6cade624",
   "metadata": {},
   "source": [
    "# Module 3: Data Structures Assignments\n",
    "## Lesson 3.2: Tuples\n",
    "\n"
   ]
  },
  {
   "cell_type": "markdown",
   "id": "44ca2d84",
   "metadata": {},
   "source": [
    "### Assignment 1: Creating and Accessing Tuples\n",
    "\n",
    "Create a tuple with the first 10 positive integers. Print the tuple."
   ]
  },
  {
   "cell_type": "code",
   "execution_count": 2,
   "metadata": {},
   "outputs": [
    {
     "data": {
      "text/plain": [
       "(1, 2, 3, 4, 5, 6, 7, 8, 9, 10)"
      ]
     },
     "execution_count": 2,
     "metadata": {},
     "output_type": "execute_result"
    }
   ],
   "source": [
    "tpl = tuple(range(1,11))\n",
    "tpl"
   ]
  },
  {
   "cell_type": "markdown",
   "id": "f5722a54",
   "metadata": {},
   "source": [
    "### Assignment 2: Accessing Tuple Elements\n",
    "\n",
    "Print the first, middle, and last elements of the tuple created in Assignment 1."
   ]
  },
  {
   "cell_type": "code",
   "execution_count": 3,
   "id": "d8348747",
   "metadata": {},
   "outputs": [
    {
     "name": "stdout",
     "output_type": "stream",
     "text": [
      "First element is 1\n",
      "Middle element is: 6\n",
      "Last element is: 10\n"
     ]
    }
   ],
   "source": [
    "print(f\"First element is {tpl[0]}\")\n",
    "print(f\"Middle element is: {tpl[len(tpl)//2]}\")\n",
    "print(f\"Last element is: {tpl[-1]}\")"
   ]
  },
  {
   "cell_type": "markdown",
   "id": "b131499b",
   "metadata": {},
   "source": [
    "### Assignment 3: Tuple Slicing\n",
    "\n",
    "Print the first three elements, the last three elements, and the elements from index 2 to 5 of the tuple created in Assignment 1."
   ]
  },
  {
   "cell_type": "code",
   "execution_count": 7,
   "id": "da2e50a4",
   "metadata": {},
   "outputs": [
    {
     "name": "stdout",
     "output_type": "stream",
     "text": [
      "First 3 elements are: (1, 2, 3)\n",
      "Last 3 elments are: (8, 9, 10)\n",
      "Elements from index 2 to 5 are: (3, 4, 5, 6)\n"
     ]
    }
   ],
   "source": [
    "print(f\"First 3 elements are: {tpl[:3]}\")\n",
    "print(f\"Last 3 elments are: {tpl[-3:]}\")\n",
    "print(f\"Elements from index 2 to 5 are: {tpl[2:6]}\")"
   ]
  },
  {
   "cell_type": "markdown",
   "id": "bb28bad0",
   "metadata": {},
   "source": [
    "### Assignment 4: Nested Tuples\n",
    "\n",
    "Create a nested tuple representing a 3x3 matrix and print the matrix. Access and print the element at the second row and third column."
   ]
  },
  {
   "cell_type": "code",
   "execution_count": null,
   "id": "a0ab6395",
   "metadata": {},
   "outputs": [],
   "source": []
  },
  {
   "cell_type": "markdown",
   "id": "347b335d",
   "metadata": {},
   "source": [
    "### Assignment 5: Tuple Concatenation\n",
    "\n",
    "Concatenate two tuples: (1, 2, 3) and (4, 5, 6). Print the resulting tuple."
   ]
  },
  {
   "cell_type": "code",
   "execution_count": 1,
   "id": "0d0e635c",
   "metadata": {},
   "outputs": [
    {
     "data": {
      "text/plain": [
       "(1, 2, 3, 4, 5, 6)"
      ]
     },
     "execution_count": 1,
     "metadata": {},
     "output_type": "execute_result"
    }
   ],
   "source": [
    "tup1 = (1,2,3)\n",
    "tup2 = (4,5,6)\n",
    "\n",
    "concat_tpl = tup1 + tup2\n",
    "concat_tpl"
   ]
  },
  {
   "cell_type": "markdown",
   "id": "d9e73062",
   "metadata": {},
   "source": [
    "### Assignment 6: Tuple Methods\n",
    "\n",
    "Create a tuple with duplicate elements and count the occurrences of an element. Find the index of the first occurrence of an element in the tuple."
   ]
  },
  {
   "cell_type": "code",
   "execution_count": 2,
   "id": "8adbb053",
   "metadata": {},
   "outputs": [
    {
     "name": "stdout",
     "output_type": "stream",
     "text": [
      "Occurrences of 3: 2\n",
      "Index of first occurrence of 4: 4\n"
     ]
    }
   ],
   "source": [
    "tpl = (1, 2, 3, 3, 4, 4, 4, 5)\n",
    "print(f\"Occurrences of 3: {tpl.count(3)}\")\n",
    "print(f\"Index of first occurrence of 4: {tpl.index(4)}\")"
   ]
  },
  {
   "cell_type": "markdown",
   "id": "88e0eb57",
   "metadata": {},
   "source": [
    "### Assignment 7: Unpacking Tuples\n",
    "\n",
    "Create a tuple with 5 elements and unpack it into 5 variables. Print the variables."
   ]
  },
  {
   "cell_type": "code",
   "execution_count": 3,
   "id": "fe771079",
   "metadata": {},
   "outputs": [
    {
     "name": "stdout",
     "output_type": "stream",
     "text": [
      "1 2 3 4\n"
     ]
    }
   ],
   "source": [
    "tpl = (1, 2, 3, 4)\n",
    "a, b, c, d = tpl\n",
    "print(a, b, c, d)"
   ]
  },
  {
   "cell_type": "markdown",
   "id": "1114ffdf",
   "metadata": {},
   "source": [
    "### Assignment 8: Tuple Conversion\n",
    "\n",
    "Convert a list of the first 5 positive integers to a tuple. Print the tuple."
   ]
  },
  {
   "cell_type": "code",
   "execution_count": 5,
   "id": "a5496d72",
   "metadata": {},
   "outputs": [
    {
     "name": "stdout",
     "output_type": "stream",
     "text": [
      "(1, 2, 3, 4, 5)\n"
     ]
    }
   ],
   "source": [
    "lst = [1, 2, 3, 4, 5]\n",
    "tpl = tuple(lst)\n",
    "print(tpl)"
   ]
  },
  {
   "cell_type": "markdown",
   "id": "77f2ebac",
   "metadata": {},
   "source": [
    "### Assignment 9: Tuple of Tuples\n",
    "\n",
    "Create a tuple containing 3 tuples, each with 3 elements. Print the tuple of tuples."
   ]
  },
  {
   "cell_type": "code",
   "execution_count": 6,
   "id": "9c9edf5e",
   "metadata": {},
   "outputs": [
    {
     "name": "stdout",
     "output_type": "stream",
     "text": [
      "((1, 2, 3), (4, 5, 6))\n"
     ]
    }
   ],
   "source": [
    "tpl_of_tpl = (\n",
    "(1, 2, 3),\n",
    "(4, 5,6)\n",
    ")\n",
    "print(tpl_of_tpl)"
   ]
  },
  {
   "cell_type": "markdown",
   "id": "2cb1438e",
   "metadata": {},
   "source": [
    "\n",
    "\n",
    "### Assignment 10: Tuple and List\n",
    "\n",
    "Create a tuple with the first 5 positive integers. Convert it to a list, append the number 6, and convert it back to a tuple. Print the resulting tuple."
   ]
  },
  {
   "cell_type": "code",
   "execution_count": 9,
   "id": "d025e353",
   "metadata": {},
   "outputs": [
    {
     "name": "stdout",
     "output_type": "stream",
     "text": [
      "(1, 2, 3, 4, 5)\n",
      "(1, 2, 3, 4, 5, 6)\n"
     ]
    }
   ],
   "source": [
    "tpl = (1, 2, 3, 4, 5)\n",
    "print(tpl)\n",
    "\n",
    "lst = list(tpl)\n",
    "lst.append(6)\n",
    "tpl2 = tuple(lst)\n",
    "print(tpl2)"
   ]
  },
  {
   "cell_type": "markdown",
   "id": "e681e0a6",
   "metadata": {},
   "source": [
    "### Assignment 11: Tuple and String\n",
    "\n",
    "Create a tuple with the characters of a string. Join the tuple elements into a single string. Print the string."
   ]
  },
  {
   "cell_type": "code",
   "execution_count": 11,
   "id": "6715275a",
   "metadata": {},
   "outputs": [
    {
     "name": "stdout",
     "output_type": "stream",
     "text": [
      "hello\n"
     ]
    }
   ],
   "source": [
    "string = \"hello\"\n",
    "tpl = tuple(string)\n",
    "joined_string = \"\".join(tpl)\n",
    "print(joined_string)"
   ]
  },
  {
   "cell_type": "markdown",
   "id": "2509d3cd",
   "metadata": {},
   "source": [
    "\n",
    "### Assignment 12: Tuple and Dictionary\n",
    "\n",
    "Create a dictionary with tuple keys and integer values. Print the dictionary."
   ]
  },
  {
   "cell_type": "code",
   "execution_count": 12,
   "id": "128d3de3",
   "metadata": {},
   "outputs": [
    {
     "name": "stdout",
     "output_type": "stream",
     "text": [
      "{(1, 2): 3, (4, 5): 6, (7, 8): 9}\n"
     ]
    }
   ],
   "source": [
    "tpl_dict = {\n",
    "    (1, 2): 3,\n",
    "    (4, 5): 6,\n",
    "    (7, 8):9\n",
    "}\n",
    "print(tpl_dict)"
   ]
  },
  {
   "cell_type": "markdown",
   "id": "83249f73",
   "metadata": {},
   "source": [
    "\n",
    "### Assignment 13: Nested Tuple Iteration\n",
    "\n",
    "Create a nested tuple and iterate over the elements, printing each element."
   ]
  },
  {
   "cell_type": "code",
   "execution_count": 13,
   "id": "088118df",
   "metadata": {},
   "outputs": [
    {
     "name": "stdout",
     "output_type": "stream",
     "text": [
      "1\n",
      "2\n",
      "3\n",
      "4\n",
      "5\n",
      "6\n"
     ]
    }
   ],
   "source": [
    "nested_tpl = (\n",
    "    (1, 2, 3),\n",
    "    (4, 5, 6)\n",
    ")\n",
    "for tpl in nested_tpl:\n",
    "    for element in tpl:\n",
    "        print(element)"
   ]
  },
  {
   "cell_type": "markdown",
   "id": "df29994c",
   "metadata": {},
   "source": [
    "### Assignment 14: Tuple and Set\n",
    "\n",
    "Create a tuple with duplicate elements. Convert it to a set to remove duplicates and print the resulting set."
   ]
  },
  {
   "cell_type": "code",
   "execution_count": 14,
   "id": "ef300318",
   "metadata": {},
   "outputs": [
    {
     "name": "stdout",
     "output_type": "stream",
     "text": [
      "(1, 1, 2, 4, 5)\n",
      "{1, 2, 4, 5}\n",
      "(1, 2, 4, 5)\n"
     ]
    }
   ],
   "source": [
    "tpl = (1,1,2,4,5)\n",
    "print(tpl)\n",
    "set = set(tpl)\n",
    "print(set)\n",
    "tpl = tuple(set)\n",
    "print(tpl)"
   ]
  },
  {
   "cell_type": "markdown",
   "id": "9379d339",
   "metadata": {},
   "source": [
    "### Assignment 15: Tuple Functions\n",
    "\n",
    "Write functions that take a tuple and return the minimum, maximum, and sum of the elements. Print the results for a sample tuple."
   ]
  },
  {
   "cell_type": "code",
   "execution_count": 15,
   "id": "8622cb02",
   "metadata": {},
   "outputs": [
    {
     "name": "stdout",
     "output_type": "stream",
     "text": [
      "Minimum: 1\n",
      "Maximum: 4\n",
      "Sum: 10\n"
     ]
    }
   ],
   "source": [
    "def min_in_tuple(tpl):\n",
    "    return min(tpl)\n",
    "\n",
    "def max_in_tuple(tpl):\n",
    "    return max(tpl)\n",
    "\n",
    "def sum_of_tuple(tpl):\n",
    "    return sum(tpl)\n",
    "\n",
    "sample_tpl = (1, 2, 3, 4 )\n",
    "print(f\"Minimum: {min_in_tuple(sample_tpl)}\")\n",
    "print(f\"Maximum: {max_in_tuple(sample_tpl)}\")\n",
    "print(f\"Sum: {sum_of_tuple(sample_tpl)}\")"
   ]
  }
 ],
 "metadata": {
  "kernelspec": {
   "display_name": "base",
   "language": "python",
   "name": "python3"
  },
  "language_info": {
   "codemirror_mode": {
    "name": "ipython",
    "version": 3
   },
   "file_extension": ".py",
   "mimetype": "text/x-python",
   "name": "python",
   "nbconvert_exporter": "python",
   "pygments_lexer": "ipython3",
   "version": "3.12.4"
  }
 },
 "nbformat": 4,
 "nbformat_minor": 5
}
