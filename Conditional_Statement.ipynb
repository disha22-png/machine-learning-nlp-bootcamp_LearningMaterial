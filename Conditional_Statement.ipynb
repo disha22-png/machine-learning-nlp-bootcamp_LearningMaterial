{
 "cells": [
  {
   "cell_type": "markdown",
   "metadata": {},
   "source": [
    "## Conditional Statements"
   ]
  },
  {
   "cell_type": "markdown",
   "metadata": {},
   "source": [
    "### IF Statement"
   ]
  },
  {
   "cell_type": "code",
   "execution_count": 1,
   "metadata": {},
   "outputs": [
    {
     "name": "stdout",
     "output_type": "stream",
     "text": [
      "You are allowed to vote in the elections\n"
     ]
    }
   ],
   "source": [
    "age = 20\n",
    "\n",
    "if age>=18:\n",
    "    print(\"You are allowed to vote in the elections\")\n",
    "else:\n",
    "    print(\"You are not allowed to vote in the elections\")\n"
   ]
  },
  {
   "cell_type": "markdown",
   "metadata": {},
   "source": [
    "### Else Statment"
   ]
  },
  {
   "cell_type": "code",
   "execution_count": 3,
   "metadata": {},
   "outputs": [
    {
     "name": "stdout",
     "output_type": "stream",
     "text": [
      "You are a minor\n"
     ]
    }
   ],
   "source": [
    "##else\n",
    "# Execute the result if the condition in the if statment is false\n",
    "\n",
    "age = 10\n",
    "\n",
    "if age>=18:\n",
    "    print(\"You are allowed to vote in the elections\")\n",
    "else:\n",
    "    print(\"You are a minor\")"
   ]
  },
  {
   "cell_type": "markdown",
   "metadata": {},
   "source": [
    "### Elif Statement"
   ]
  },
  {
   "cell_type": "code",
   "execution_count": 4,
   "metadata": {},
   "outputs": [
    {
     "name": "stdout",
     "output_type": "stream",
     "text": [
      "You are an adult\n"
     ]
    }
   ],
   "source": [
    "## Elif - Allows you to check for multiple conditions.\n",
    "\n",
    "age = 20 \n",
    "\n",
    "if age<13:\n",
    "    print(\"You are a child\")\n",
    "elif age<18:\n",
    "    print(\"You are a teenager\")\n",
    "else:\n",
    "    print(\"You are an adult\")"
   ]
  },
  {
   "cell_type": "markdown",
   "metadata": {},
   "source": [
    "### Nested Conditional Statement"
   ]
  },
  {
   "cell_type": "code",
   "execution_count": 6,
   "metadata": {},
   "outputs": [
    {
     "name": "stdout",
     "output_type": "stream",
     "text": [
      "The num is negative or zero\n"
     ]
    }
   ],
   "source": [
    "## Nested Conditional Statements\n",
    "# you can place one or more if, elif or else statements inside another if, elif, else statement to create nested conditional statement.\n",
    "\n",
    "# number even, odd, negative\n",
    "\n",
    "num = int(input(\"Enter a number:\"))\n",
    "\n",
    "if num>0:\n",
    "    print(\"The num is positive\")\n",
    "    if num%2 == 0:\n",
    "        print(\"The num is even\")\n",
    "    else:\n",
    "        print(\"The num is odd\")\n",
    "else:\n",
    "    print(\"The num is negative or zero\")\n"
   ]
  },
  {
   "cell_type": "code",
   "execution_count": 9,
   "metadata": {},
   "outputs": [
    {
     "name": "stdout",
     "output_type": "stream",
     "text": [
      "year is  a leap year\n"
     ]
    }
   ],
   "source": [
    "# Determing if a year is a leap year using nested condition statement\n",
    "\n",
    "year = int(input(\"Enter a year:\"))\n",
    "\n",
    "if year % 4 == 0:\n",
    "    if year% 100 == 0:\n",
    "        if year % 400 == 0:\n",
    "            print(\"Year, is a leap year\")\n",
    "        else:\n",
    "            print(\"year, is not a leap year\")\n",
    "    else:\n",
    "        print(\"year is  a leap year\")\n",
    "\n",
    "else:\n",
    "    print(\"year is not leap year\")\n"
   ]
  },
  {
   "cell_type": "code",
   "execution_count": null,
   "metadata": {},
   "outputs": [],
   "source": []
  }
 ],
 "metadata": {
  "kernelspec": {
   "display_name": "base",
   "language": "python",
   "name": "python3"
  },
  "language_info": {
   "codemirror_mode": {
    "name": "ipython",
    "version": 3
   },
   "file_extension": ".py",
   "mimetype": "text/x-python",
   "name": "python",
   "nbconvert_exporter": "python",
   "pygments_lexer": "ipython3",
   "version": "3.12.4"
  }
 },
 "nbformat": 4,
 "nbformat_minor": 2
}
