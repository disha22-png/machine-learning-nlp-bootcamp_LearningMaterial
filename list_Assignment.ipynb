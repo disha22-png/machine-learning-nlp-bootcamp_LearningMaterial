{
 "cells": [
  {
   "cell_type": "markdown",
   "metadata": {},
   "source": [
    "# Module 3: Data Structures Assignments\n",
    "## Lesson 3.1: Lists\n",
    "\n"
   ]
  },
  {
   "cell_type": "markdown",
   "id": "c1d9ac7b",
   "metadata": {},
   "source": [
    "### Assignment 1: Creating and Accessing Lists\n",
    "\n",
    "Create a list of the first 20 positive integers. Print the list."
   ]
  },
  {
   "cell_type": "code",
   "execution_count": 4,
   "metadata": {},
   "outputs": [
    {
     "name": "stdout",
     "output_type": "stream",
     "text": [
      "[1, 2, 3, 4, 5, 6, 7, 8, 9, 10, 11, 12, 13, 14, 15, 16, 17, 18, 19, 20]\n"
     ]
    }
   ],
   "source": [
    "lst = list(range(1,21))\n",
    "print(lst)"
   ]
  },
  {
   "cell_type": "markdown",
   "id": "8123431c",
   "metadata": {},
   "source": [
    "### Assignment 2: Accessing List Elements\n",
    "\n",
    "Print the first, middle, and last elements of the list created in Assignment 1.\n"
   ]
  },
  {
   "cell_type": "code",
   "execution_count": 8,
   "id": "133afc41",
   "metadata": {},
   "outputs": [
    {
     "name": "stdout",
     "output_type": "stream",
     "text": [
      "First element is 1\n",
      "Middle element is 11\n",
      "Last element is 20\n"
     ]
    }
   ],
   "source": [
    "print(f\"First element is {lst[0]}\")\n",
    "print(f\"Middle element is {lst[len(lst)//2]}\")\n",
    "print(f\"Last element is {lst[-1]}\")"
   ]
  },
  {
   "cell_type": "markdown",
   "id": "6899450d",
   "metadata": {},
   "source": [
    "### Assignment 3: List Slicing\n",
    "\n",
    "Print the first five elements, the last five elements, and the elements from index 5 to 15 of the list created in Assignment 1."
   ]
  },
  {
   "cell_type": "code",
   "execution_count": 15,
   "id": "9df00c9a",
   "metadata": {},
   "outputs": [
    {
     "name": "stdout",
     "output_type": "stream",
     "text": [
      "First Five elements are [1, 2, 3, 4, 5]\n",
      "Last five numbers [16, 17, 18, 19, 20]\n",
      "Elements from index 5 to 15 are [6, 7, 8, 9, 10, 11, 12, 13, 14, 15]\n"
     ]
    }
   ],
   "source": [
    "print(f\"First Five elements are {lst[:5]}\")\n",
    "print(f\"Last five numbers {lst[-5:]}\")\n",
    "print(f\"Elements from index 5 to 15 are {lst[5:15]}\")"
   ]
  },
  {
   "cell_type": "markdown",
   "id": "2c182aee",
   "metadata": {},
   "source": [
    "### Assignment 4: List Comprehensions\n",
    "\n",
    "Create a new list containing the squares of the first 10 positive integers using a list comprehension. Print the new list."
   ]
  },
  {
   "cell_type": "code",
   "execution_count": 18,
   "id": "0abb06a6",
   "metadata": {},
   "outputs": [
    {
     "data": {
      "text/plain": [
       "[1, 4, 9, 16, 25, 36, 49, 64, 81, 100]"
      ]
     },
     "execution_count": 18,
     "metadata": {},
     "output_type": "execute_result"
    }
   ],
   "source": [
    "Square_num = [num**2 for num in range(1,11)]\n",
    "Square_num"
   ]
  },
  {
   "cell_type": "markdown",
   "id": "ed692375",
   "metadata": {},
   "source": [
    "### Assignment 5: Filtering Lists\n",
    "\n",
    "Create a new list containing only the even numbers from the list created in Assignment 1 using a list comprehension. Print the new list."
   ]
  },
  {
   "cell_type": "code",
   "execution_count": 21,
   "id": "fb8c2480",
   "metadata": {},
   "outputs": [
    {
     "data": {
      "text/plain": [
       "[2, 4, 6, 8, 10]"
      ]
     },
     "execution_count": 21,
     "metadata": {},
     "output_type": "execute_result"
    }
   ],
   "source": [
    "even_num = [num for num in range(1,11) if  num % 2 == 0]\n",
    "even_num"
   ]
  },
  {
   "cell_type": "markdown",
   "id": "707e9402",
   "metadata": {},
   "source": [
    "### Assignment 6: List Methods\n",
    "\n",
    "Create a list of random numbers and sort it in ascending and descending order. Remove the duplicates from the list and print the modified list."
   ]
  },
  {
   "cell_type": "code",
   "execution_count": null,
   "id": "dc94cdd8",
   "metadata": {},
   "outputs": [
    {
     "name": "stdout",
     "output_type": "stream",
     "text": [
      "Original list: [19, 10, 7, 5, 2, 20, 10, 3, 10, 2, 16, 3, 20, 9, 8]\n",
      "Sorted in ascending order: [2, 2, 3, 3, 5, 7, 8, 9, 10, 10, 10, 16, 19, 20, 20]\n",
      "Sorted in descending order: [20, 20, 19, 16, 10, 10, 10, 9, 8, 7, 5, 3, 3, 2, 2]\n",
      "List with duplicates removed: [2, 3, 5, 7, 8, 9, 10, 16, 19, 20]\n"
     ]
    }
   ],
   "source": [
    "import random\n",
    "\n",
    "rand_num = [random.randint(1,20) for _ in range(15)]\n",
    "print(f\"Original list: {rand_num}\")\n",
    "\n",
    "sorted_num = sorted(rand_num)\n",
    "print(f\"Sorted in ascending order: {sorted_num}\")\n",
    "\n",
    "sorted_num_desc = sorted(rand_num, reverse = True)\n",
    "print(f\"Sorted in descending order: {sorted_num_desc}\")\n",
    "\n",
    "# Convert the list to a set to remove duplicates and back to a list\n",
    "\n",
    "unique_num = list(set(rand_num)) \n",
    "print(f\"List with duplicates removed: {unique_num}\")\n",
    "\n"
   ]
  },
  {
   "cell_type": "markdown",
   "id": "4bc9c134",
   "metadata": {},
   "source": [
    "\n",
    "### Assignment 7: Nested Lists\n",
    "\n",
    "Create a nested list representing a 3x3 matrix and print the matrix. Access and print the element at the second row and third column."
   ]
  },
  {
   "cell_type": "code",
   "execution_count": 31,
   "id": "24e793ea",
   "metadata": {},
   "outputs": [
    {
     "name": "stdout",
     "output_type": "stream",
     "text": [
      "matrix:\n",
      "[1, 2, 3]\n",
      "[4, 5, 6]\n",
      "[7, 8, 9]\n",
      "Element at second and third column: 6\n"
     ]
    }
   ],
   "source": [
    "matrix = [\n",
    "    [1,2,3],\n",
    "    [4,5,6],\n",
    "    [7,8,9]\n",
    "]\n",
    "\n",
    "# Print the entire matrix row by row\n",
    "\n",
    "print(\"matrix:\")\n",
    "for row in matrix:\n",
    "    print(row)\n",
    "print(f\"Element at second and third column: {matrix[1][2]}\")"
   ]
  },
  {
   "cell_type": "markdown",
   "id": "3235d97f",
   "metadata": {},
   "source": [
    "### Assignment 8: List of Dictionaries\n",
    "\n",
    "Create a list of dictionaries where each dictionary represents a student with keys 'name' and 'score'. Sort the list of dictionaries by the 'score' in descending order and print the sorted list."
   ]
  },
  {
   "cell_type": "code",
   "execution_count": 1,
   "id": "12cdf0df",
   "metadata": {},
   "outputs": [
    {
     "name": "stdout",
     "output_type": "stream",
     "text": [
      "Sorted students by score in descending order:\n",
      "{'name': 'Shivani', 'score': 96}\n",
      "{'name': 'Ashwini', 'score': 95}\n",
      "{'name': 'Disha', 'score': 90}\n"
     ]
    }
   ],
   "source": [
    "students = [\n",
    "    {\"name\": \"Disha\",\"score\": 90},\n",
    "    {\"name\": \"Ashwini\",\"score\":95},\n",
    "    {\"name\": \"Shivani\", \"score\":96}\n",
    "]\n",
    "\n",
    "sorted_Stud = sorted(students, key = lambda x: x[\"score\"], reverse = True)\n",
    "print(\"Sorted students by score in descending order:\")\n",
    "for student in sorted_Stud:\n",
    "    print(student)"
   ]
  },
  {
   "cell_type": "markdown",
   "id": "67e15333",
   "metadata": {},
   "source": [
    "\n",
    "### Assignment 9: Matrix Transposition\n",
    "\n",
    "Write a function that takes a 3x3 matrix (nested list) as input and returns its transpose. Print the original and transposed matrices."
   ]
  },
  {
   "cell_type": "code",
   "execution_count": 2,
   "id": "75587a03",
   "metadata": {},
   "outputs": [
    {
     "name": "stdout",
     "output_type": "stream",
     "text": [
      "Original Matrix:\n",
      "[1, 2, 3]\n",
      "[4, 5, 6]\n",
      "[7, 8, 9]\n",
      "Transposed Matrix:\n",
      "[1, 4, 7]\n",
      "[2, 5, 8]\n",
      "[3, 6, 9]\n"
     ]
    }
   ],
   "source": [
    "def transpose_matrix(matrix):\n",
    "    transposed = [[matrix[j][i] for j in range(len(matrix))] for i in range(len(matrix[0]))]\n",
    "    return transposed\n",
    "\n",
    "matrix = [\n",
    "    [1, 2, 3],\n",
    "    [4, 5, 6],\n",
    "    [7, 8, 9]\n",
    "]\n",
    "transposed = transpose_matrix(matrix)\n",
    "print(\"Original Matrix:\")\n",
    "for row in matrix:\n",
    "    print(row)\n",
    "print(\"Transposed Matrix:\")\n",
    "for row in transposed:\n",
    "    print(row)"
   ]
  },
  {
   "cell_type": "markdown",
   "id": "a3c15653",
   "metadata": {},
   "source": [
    "### Assignment 10: Flattening a Nested List\n",
    "\n",
    "Write a function that takes a nested list and flattens it into a single list. Print the original and flattened lists."
   ]
  },
  {
   "cell_type": "code",
   "execution_count": null,
   "id": "58c70bf6",
   "metadata": {},
   "outputs": [],
   "source": [
    "def flatten_list(nested_list):\n",
    "    flat_list = [item for sublist in nested_list for item in sublist]\n",
    "    return flat_list\n",
    "\n",
    "nested_list = [\n",
    "    [1, 2, 3],\n",
    "    [4, 5, 6]\n",
    "]\n",
    "flattened = flatten_list(nested_list)\n",
    "print(\"Original nested list:\")\n",
    "print(nested_list)\n",
    "print(\"Flattened list:\")\n",
    "print(flattened)"
   ]
  },
  {
   "cell_type": "markdown",
   "id": "66471b0d",
   "metadata": {},
   "source": [
    "\n",
    "### Assignment 11: List Manipulation\n",
    "\n",
    "Create a list of the first 10 positive integers. Remove the elements at indices 2, 4, and 6, and insert the element '99' at index 5. Print the modified list."
   ]
  },
  {
   "cell_type": "code",
   "execution_count": 5,
   "id": "2f7cc71c",
   "metadata": {},
   "outputs": [
    {
     "name": "stdout",
     "output_type": "stream",
     "text": [
      "Original list: [1, 2, 3, 4, 5, 6, 7, 8, 9, 10]\n",
      "Modified list: [1, 2, 4, 6, 8, 99, 9, 10]\n"
     ]
    }
   ],
   "source": [
    "lst = list(range(1,11))\n",
    "print(f\"Original list: {lst}\")\n",
    "del lst[6]\n",
    "del lst[4]\n",
    "del lst[2]\n",
    "lst.insert(5,99)\n",
    "print(f\"Modified list: {lst}\")"
   ]
  },
  {
   "cell_type": "markdown",
   "id": "7e2e7eb6",
   "metadata": {},
   "source": [
    "### Assignment 12: List Zipping\n",
    "\n",
    "Create two lists of the same length. Use the `zip` function to combine these lists into a list of tuples and print the result."
   ]
  },
  {
   "cell_type": "code",
   "execution_count": null,
   "id": "c93a67d6",
   "metadata": {},
   "outputs": [
    {
     "name": "stdout",
     "output_type": "stream",
     "text": [
      "[(1, 'a'), (2, 'b'), (3, 'c'), (4, 'd'), (5, 'e')]\n"
     ]
    }
   ],
   "source": [
    "lst1 = [1, 2, 3, 4, 5]\n",
    "lst2 = ['a','b','c', 'd', 'e']\n",
    "zipped = list(zip(lst1, lst2))\n",
    "print(zipped)"
   ]
  },
  {
   "cell_type": "markdown",
   "id": "f7dbd53d",
   "metadata": {},
   "source": [
    "### Assignment 13: List Reversal\n",
    "\n",
    "Write a function that takes a list and returns a new list with the elements in reverse order. Print the original and reversed lists."
   ]
  },
  {
   "cell_type": "code",
   "execution_count": 9,
   "id": "41d8c9c2",
   "metadata": {},
   "outputs": [
    {
     "name": "stdout",
     "output_type": "stream",
     "text": [
      "Original list: [1, 2, 3, 4, 5]\n",
      "Reversed list: [5, 4, 3, 2, 1]\n"
     ]
    }
   ],
   "source": [
    "def revers_list(lst):\n",
    "    return lst[::-1]\n",
    "\n",
    "original_lst = [1, 2, 3, 4, 5]\n",
    "reversed_lst = revers_list(original_lst)\n",
    "print(f\"Original list: {original_lst}\")\n",
    "print(f\"Reversed list: {reversed_lst}\")"
   ]
  },
  {
   "cell_type": "markdown",
   "id": "de441fea",
   "metadata": {},
   "source": [
    "### Assignment 14: List Rotation\n",
    "\n",
    "Write a function that rotates a list by n positions. Print the original and rotated lists."
   ]
  },
  {
   "cell_type": "code",
   "execution_count": null,
   "id": "b78d71ab",
   "metadata": {},
   "outputs": [
    {
     "name": "stdout",
     "output_type": "stream",
     "text": [
      "original list: [1, 2, 3, 4, 5]\n",
      "rotated list: [4, 5, 1, 2, 3]\n"
     ]
    }
   ],
   "source": [
    "def rotate_list(lst, n):\n",
    "    return lst[n:] + lst[:n]\n",
    "\n",
    "\n",
    "\n",
    "original_list = [1,2,3,4,5]\n",
    "n = int(input(\"Enter the number of positions to rotate:\"))\n",
    "rotated_list = rotate_list(original_list, n)\n",
    "print(f\"original list: {original_list}\")\n",
    "print(f\"Rotated list by {n} positions: {rotated_list}\")"
   ]
  },
  {
   "cell_type": "markdown",
   "id": "f87b19c4",
   "metadata": {},
   "source": [
    "\n",
    "### Assignment 15: List Intersection\n",
    "\n",
    "Write a function that takes two lists and returns a new list containing only the elements that are present in both lists. Print the intersected list."
   ]
  },
  {
   "cell_type": "code",
   "execution_count": 20,
   "id": "7c289a1c",
   "metadata": {},
   "outputs": [
    {
     "name": "stdout",
     "output_type": "stream",
     "text": [
      "List 1: [1, 2, 3, 4, 5]\n",
      "List 2: [1, 5, 2, 7, 8]\n",
      "Intersection: [1, 2, 5]\n"
     ]
    }
   ],
   "source": [
    "def list_intersection(lst1, lst2):\n",
    "    return [x for x in lst1 if x in lst2]\n",
    "\n",
    "lst1 = [ 1,2,3,4,5]\n",
    "lst2 = [1,5,2,7,8]\n",
    "intersection = list_intersection(lst1, lst2)\n",
    "print(f\"List 1: {lst1}\")\n",
    "print(f\"List 2: {lst2}\")\n",
    "print(f\"Intersection: {intersection}\")"
   ]
  }
 ],
 "metadata": {
  "kernelspec": {
   "display_name": "base",
   "language": "python",
   "name": "python3"
  },
  "language_info": {
   "codemirror_mode": {
    "name": "ipython",
    "version": 3
   },
   "file_extension": ".py",
   "mimetype": "text/x-python",
   "name": "python",
   "nbconvert_exporter": "python",
   "pygments_lexer": "ipython3",
   "version": "3.12.4"
  }
 },
 "nbformat": 4,
 "nbformat_minor": 5
}
